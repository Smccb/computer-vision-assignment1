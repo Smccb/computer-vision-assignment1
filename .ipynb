{
 "cells": [
  {
   "cell_type": "code",
   "execution_count": 1,
   "metadata": {},
   "outputs": [
    {
     "name": "stdout",
     "output_type": "stream",
     "text": [
      "[1, 0, 2, 0, 0]\n",
      "[1, 1, 0, 3, 0]\n",
      "[0, 0, 4, 0, 5]\n",
      "[0, 4, 4, 0, 0]\n",
      "[6, 0, 0, 7, 7]\n"
     ]
    }
   ],
   "source": [
    "def connected_component_labeling(image):\n",
    "    def dfs(i, j, label):\n",
    "        if i < 0 or i >= rows or j < 0 or j >= cols:\n",
    "            return\n",
    "        if visited[i][j] or image[i][j] == 0:\n",
    "            return\n",
    "        \n",
    "        visited[i][j] = True\n",
    "        labels[i][j] = label\n",
    "        \n",
    "        for dx, dy in [(1, 0), (-1, 0), (0, 1), (0, -1)]:\n",
    "            dfs(i + dx, j + dy, label)\n",
    "    \n",
    "    rows = len(image)\n",
    "    cols = len(image[0])\n",
    "    visited = [[False] * cols for _ in range(rows)]\n",
    "    labels = [[0] * cols for _ in range(rows)]\n",
    "    label = 0\n",
    "    \n",
    "    for i in range(rows):\n",
    "        for j in range(cols):\n",
    "            if not visited[i][j] and image[i][j] == 1:\n",
    "                label += 1\n",
    "                dfs(i, j, label)\n",
    "                \n",
    "    return labels\n",
    "\n",
    "# Example usage:\n",
    "image = [\n",
    "    [1, 0, 1, 0, 0],\n",
    "    [1, 1, 0, 1, 0],\n",
    "    [0, 0, 1, 0, 1],\n",
    "    [0, 1, 1, 0, 0],\n",
    "    [1, 0, 0, 1, 1]\n",
    "]\n",
    "\n",
    "labels = connected_component_labeling(image)\n",
    "for row in labels:\n",
    "    print(row)\n"
   ]
  },
  {
   "cell_type": "code",
   "execution_count": 4,
   "metadata": {},
   "outputs": [
    {
     "name": "stdout",
     "output_type": "stream",
     "text": [
      "Binary image shape: (220, 220)\n"
     ]
    }
   ],
   "source": [
    "import cv2\n",
    "import numpy as np\n",
    "\n",
    "def connected_component_labeling(image):\n",
    "    _, binary_image = cv2.threshold(image, 127, 255, cv2.THRESH_BINARY)\n",
    "    print(\"Binary image shape:\", binary_image.shape)\n",
    "    num_labels, labels, stats, _ = cv2.connectedComponentsWithStats(binary_image, connectivity=4)\n",
    "    return labels\n",
    "\n",
    "# Load the image\n",
    "image = cv2.imread('Orings/Oring1.jpg', cv2.IMREAD_GRAYSCALE)\n",
    "\n",
    "if image is None:\n",
    "    print(\"Error: Image not found or cannot be read.\")\n",
    "else:\n",
    "    # Perform connected component labeling\n",
    "    labels = connected_component_labeling(image)\n",
    "\n",
    "    if labels is None:\n",
    "        print(\"Error: Connected component labeling failed.\")\n",
    "    else:\n",
    "        # Display the labeled image\n",
    "        cv2.imshow('Labeled Image', labels.astype(np.uint8) * 50)  # Scale for better visualization\n",
    "        cv2.waitKey(0)\n",
    "        cv2.destroyAllWindows()\n",
    "\n"
   ]
  },
  {
   "cell_type": "code",
   "execution_count": 3,
   "metadata": {},
   "outputs": [
    {
     "name": "stdout",
     "output_type": "stream",
     "text": [
      "Binary image shape: (220, 220)\n",
      "Number of labels: 42\n"
     ]
    }
   ],
   "source": [
    "import cv2\n",
    "import numpy as np\n",
    "\n",
    "def connected_component_labeling(image):\n",
    "    _, binary_image = cv2.threshold(image, 127, 255, cv2.THRESH_BINARY)\n",
    "    print(\"Binary image shape:\", binary_image.shape)\n",
    "    num_labels, labels, stats, _ = cv2.connectedComponentsWithStats(binary_image, connectivity=4)\n",
    "    print(\"Number of labels:\", num_labels)\n",
    "    return labels\n",
    "\n",
    "# Load the image\n",
    "image = cv2.imread('Orings/Oring1.jpg', cv2.IMREAD_GRAYSCALE)\n",
    "\n",
    "if image is None:\n",
    "    print(\"Error: Image not found or cannot be read.\")\n",
    "else:\n",
    "    # Perform connected component labeling\n",
    "    labels = connected_component_labeling(image)\n",
    "\n",
    "    if labels is None:\n",
    "        print(\"Error: Connected component labeling failed.\")\n",
    "    else:\n",
    "        # Display the labeled image\n",
    "        cv2.imshow('Labeled Image', labels.astype(np.uint8) * 50)  # Scale for better visualization\n",
    "        cv2.waitKey(0)\n",
    "        cv2.destroyAllWindows()\n"
   ]
  },
  {
   "cell_type": "code",
   "execution_count": 7,
   "metadata": {},
   "outputs": [],
   "source": [
    "def connected_component_labeling(image):\n",
    "    # Convert the image to binary using a threshold\n",
    "    threshold = 127\n",
    "    binary_image = (image > threshold).astype(np.uint8)\n",
    "\n",
    "    # Perform connected component labeling\n",
    "    labels = np.zeros_like(binary_image)\n",
    "    label = 1  # Start labeling from 1\n",
    "    for i in range(binary_image.shape[0]):\n",
    "        for j in range(binary_image.shape[1]):\n",
    "            if binary_image[i][j] == 1 and labels[i][j] == 0:\n",
    "                dfs(binary_image, labels, i, j, label)\n",
    "                label += 1\n",
    "\n",
    "    return labels\n",
    "\n",
    "def dfs(binary_image, labels, i, j, label):\n",
    "    stack = [(i, j)]\n",
    "    \n",
    "    while stack:\n",
    "        i, j = stack.pop()\n",
    "        if i < 0 or i >= binary_image.shape[0] or j < 0 or j >= binary_image.shape[1]:\n",
    "            continue\n",
    "        if binary_image[i][j] == 0 or labels[i][j] > 0:\n",
    "            continue\n",
    "        \n",
    "        labels[i][j] = label\n",
    "        for dx, dy in [(1, 0), (-1, 0), (0, 1), (0, -1)]:\n",
    "            stack.append((i + dx, j + dy))\n",
    "\n",
    "\n",
    "\n",
    "\n",
    "# Load the image\n",
    "image = cv2.imread('Orings/Oring1.jpg', cv2.IMREAD_GRAYSCALE)\n",
    "\n",
    "if image is None:\n",
    "    print(\"Error: Image not found or cannot be read.\")\n",
    "else:\n",
    "    # Perform connected component labeling\n",
    "    labels = connected_component_labeling(image)\n",
    "\n",
    "    if labels is None:\n",
    "        print(\"Error: Connected component labeling failed.\")\n",
    "    else:\n",
    "        # Display the labeled image\n",
    "        cv2.imshow('Labeled Image', labels.astype(np.uint8) * 50)  # Scale for better visualization\n",
    "        cv2.waitKey(0)\n",
    "        cv2.destroyAllWindows()\n"
   ]
  }
 ],
 "metadata": {
  "kernelspec": {
   "display_name": "Python 3",
   "language": "python",
   "name": "python3"
  },
  "language_info": {
   "codemirror_mode": {
    "name": "ipython",
    "version": 3
   },
   "file_extension": ".py",
   "mimetype": "text/x-python",
   "name": "python",
   "nbconvert_exporter": "python",
   "pygments_lexer": "ipython3",
   "version": "3.11.0"
  }
 },
 "nbformat": 4,
 "nbformat_minor": 2
}
