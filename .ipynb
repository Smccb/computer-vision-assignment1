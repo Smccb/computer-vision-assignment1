{
 "cells": [
  {
   "cell_type": "code",
   "execution_count": 1,
   "metadata": {},
   "outputs": [
    {
     "name": "stdout",
     "output_type": "stream",
     "text": [
      "[1, 0, 2, 0, 0]\n",
      "[1, 1, 0, 3, 0]\n",
      "[0, 0, 4, 0, 5]\n",
      "[0, 4, 4, 0, 0]\n",
      "[6, 0, 0, 7, 7]\n"
     ]
    }
   ],
   "source": [
    "def connected_component_labeling(image):\n",
    "    def dfs(i, j, label):\n",
    "        if i < 0 or i >= rows or j < 0 or j >= cols:\n",
    "            return\n",
    "        if visited[i][j] or image[i][j] == 0:\n",
    "            return\n",
    "        \n",
    "        visited[i][j] = True\n",
    "        labels[i][j] = label\n",
    "        \n",
    "        for dx, dy in [(1, 0), (-1, 0), (0, 1), (0, -1)]:\n",
    "            dfs(i + dx, j + dy, label)\n",
    "    \n",
    "    rows = len(image)\n",
    "    cols = len(image[0])\n",
    "    visited = [[False] * cols for _ in range(rows)]\n",
    "    labels = [[0] * cols for _ in range(rows)]\n",
    "    label = 0\n",
    "    \n",
    "    for i in range(rows):\n",
    "        for j in range(cols):\n",
    "            if not visited[i][j] and image[i][j] == 1:\n",
    "                label += 1\n",
    "                dfs(i, j, label)\n",
    "                \n",
    "    return labels\n",
    "\n",
    "# Example usage:\n",
    "image = [\n",
    "    [1, 0, 1, 0, 0],\n",
    "    [1, 1, 0, 1, 0],\n",
    "    [0, 0, 1, 0, 1],\n",
    "    [0, 1, 1, 0, 0],\n",
    "    [1, 0, 0, 1, 1]\n",
    "]\n",
    "\n",
    "labels = connected_component_labeling(image)\n",
    "for row in labels:\n",
    "    print(row)\n"
   ]
  },
  {
   "cell_type": "code",
   "execution_count": 4,
   "metadata": {},
   "outputs": [
    {
     "name": "stdout",
     "output_type": "stream",
     "text": [
      "Binary image shape: (220, 220)\n"
     ]
    }
   ],
   "source": [
    "import cv2\n",
    "import numpy as np\n",
    "\n",
    "def connected_component_labeling(image):\n",
    "    _, binary_image = cv2.threshold(image, 127, 255, cv2.THRESH_BINARY)\n",
    "    print(\"Binary image shape:\", binary_image.shape)\n",
    "    num_labels, labels, stats, _ = cv2.connectedComponentsWithStats(binary_image, connectivity=4)\n",
    "    return labels\n",
    "\n",
    "# Load the image\n",
    "image = cv2.imread('Orings/Oring1.jpg', cv2.IMREAD_GRAYSCALE)\n",
    "\n",
    "if image is None:\n",
    "    print(\"Error: Image not found or cannot be read.\")\n",
    "else:\n",
    "    # Perform connected component labeling\n",
    "    labels = connected_component_labeling(image)\n",
    "\n",
    "    if labels is None:\n",
    "        print(\"Error: Connected component labeling failed.\")\n",
    "    else:\n",
    "        # Display the labeled image\n",
    "        cv2.imshow('Labeled Image', labels.astype(np.uint8) * 50)  # Scale for better visualization\n",
    "        cv2.waitKey(0)\n",
    "        cv2.destroyAllWindows()\n",
    "\n"
   ]
  },
  {
   "cell_type": "code",
   "execution_count": 3,
   "metadata": {},
   "outputs": [
    {
     "name": "stdout",
     "output_type": "stream",
     "text": [
      "Binary image shape: (220, 220)\n",
      "Number of labels: 42\n"
     ]
    }
   ],
   "source": [
    "import cv2\n",
    "import numpy as np\n",
    "\n",
    "def connected_component_labeling(image):\n",
    "    _, binary_image = cv2.threshold(image, 127, 255, cv2.THRESH_BINARY)\n",
    "    print(\"Binary image shape:\", binary_image.shape)\n",
    "    num_labels, labels, stats, _ = cv2.connectedComponentsWithStats(binary_image, connectivity=4)\n",
    "    print(\"Number of labels:\", num_labels)\n",
    "    return labels\n",
    "\n",
    "# Load the image\n",
    "image = cv2.imread('Orings/Oring1.jpg', cv2.IMREAD_GRAYSCALE)\n",
    "\n",
    "if image is None:\n",
    "    print(\"Error: Image not found or cannot be read.\")\n",
    "else:\n",
    "    # Perform connected component labeling\n",
    "    labels = connected_component_labeling(image)\n",
    "\n",
    "    if labels is None:\n",
    "        print(\"Error: Connected component labeling failed.\")\n",
    "    else:\n",
    "        # Display the labeled image\n",
    "        cv2.imshow('Labeled Image', labels.astype(np.uint8) * 50)  # Scale for better visualization\n",
    "        cv2.waitKey(0)\n",
    "        cv2.destroyAllWindows()\n"
   ]
  },
  {
   "cell_type": "code",
   "execution_count": 4,
   "metadata": {},
   "outputs": [
    {
     "ename": "RecursionError",
     "evalue": "maximum recursion depth exceeded in comparison",
     "output_type": "error",
     "traceback": [
      "\u001b[1;31m---------------------------------------------------------------------------\u001b[0m",
      "\u001b[1;31mRecursionError\u001b[0m                            Traceback (most recent call last)",
      "Cell \u001b[1;32mIn[4], line 36\u001b[0m\n\u001b[0;32m     33\u001b[0m     \u001b[38;5;28mprint\u001b[39m(\u001b[38;5;124m\"\u001b[39m\u001b[38;5;124mError: Image not found or cannot be read.\u001b[39m\u001b[38;5;124m\"\u001b[39m)\n\u001b[0;32m     34\u001b[0m \u001b[38;5;28;01melse\u001b[39;00m:\n\u001b[0;32m     35\u001b[0m     \u001b[38;5;66;03m# Perform connected component labeling\u001b[39;00m\n\u001b[1;32m---> 36\u001b[0m     labels \u001b[38;5;241m=\u001b[39m \u001b[43mconnected_component_labeling\u001b[49m\u001b[43m(\u001b[49m\u001b[43mimage\u001b[49m\u001b[43m)\u001b[49m\n\u001b[0;32m     38\u001b[0m     \u001b[38;5;28;01mif\u001b[39;00m labels \u001b[38;5;129;01mis\u001b[39;00m \u001b[38;5;28;01mNone\u001b[39;00m:\n\u001b[0;32m     39\u001b[0m         \u001b[38;5;28mprint\u001b[39m(\u001b[38;5;124m\"\u001b[39m\u001b[38;5;124mError: Connected component labeling failed.\u001b[39m\u001b[38;5;124m\"\u001b[39m)\n",
      "Cell \u001b[1;32mIn[4], line 12\u001b[0m, in \u001b[0;36mconnected_component_labeling\u001b[1;34m(image)\u001b[0m\n\u001b[0;32m     10\u001b[0m     \u001b[38;5;28;01mfor\u001b[39;00m j \u001b[38;5;129;01min\u001b[39;00m \u001b[38;5;28mrange\u001b[39m(binary_image\u001b[38;5;241m.\u001b[39mshape[\u001b[38;5;241m1\u001b[39m]):\n\u001b[0;32m     11\u001b[0m         \u001b[38;5;28;01mif\u001b[39;00m binary_image[i][j] \u001b[38;5;241m==\u001b[39m \u001b[38;5;241m1\u001b[39m \u001b[38;5;129;01mand\u001b[39;00m labels[i][j] \u001b[38;5;241m==\u001b[39m \u001b[38;5;241m0\u001b[39m:\n\u001b[1;32m---> 12\u001b[0m             \u001b[43mdfs\u001b[49m\u001b[43m(\u001b[49m\u001b[43mbinary_image\u001b[49m\u001b[43m,\u001b[49m\u001b[43m \u001b[49m\u001b[43mlabels\u001b[49m\u001b[43m,\u001b[49m\u001b[43m \u001b[49m\u001b[43mi\u001b[49m\u001b[43m,\u001b[49m\u001b[43m \u001b[49m\u001b[43mj\u001b[49m\u001b[43m,\u001b[49m\u001b[43m \u001b[49m\u001b[43mlabel\u001b[49m\u001b[43m)\u001b[49m\n\u001b[0;32m     13\u001b[0m             label \u001b[38;5;241m+\u001b[39m\u001b[38;5;241m=\u001b[39m \u001b[38;5;241m1\u001b[39m\n\u001b[0;32m     15\u001b[0m \u001b[38;5;28;01mreturn\u001b[39;00m labels\n",
      "Cell \u001b[1;32mIn[4], line 25\u001b[0m, in \u001b[0;36mdfs\u001b[1;34m(binary_image, labels, i, j, label)\u001b[0m\n\u001b[0;32m     23\u001b[0m labels[i][j] \u001b[38;5;241m=\u001b[39m label\n\u001b[0;32m     24\u001b[0m \u001b[38;5;28;01mfor\u001b[39;00m dx, dy \u001b[38;5;129;01min\u001b[39;00m [(\u001b[38;5;241m1\u001b[39m, \u001b[38;5;241m0\u001b[39m), (\u001b[38;5;241m-\u001b[39m\u001b[38;5;241m1\u001b[39m, \u001b[38;5;241m0\u001b[39m), (\u001b[38;5;241m0\u001b[39m, \u001b[38;5;241m1\u001b[39m), (\u001b[38;5;241m0\u001b[39m, \u001b[38;5;241m-\u001b[39m\u001b[38;5;241m1\u001b[39m)]:\n\u001b[1;32m---> 25\u001b[0m     \u001b[43mdfs\u001b[49m\u001b[43m(\u001b[49m\u001b[43mbinary_image\u001b[49m\u001b[43m,\u001b[49m\u001b[43m \u001b[49m\u001b[43mlabels\u001b[49m\u001b[43m,\u001b[49m\u001b[43m \u001b[49m\u001b[43mi\u001b[49m\u001b[43m \u001b[49m\u001b[38;5;241;43m+\u001b[39;49m\u001b[43m \u001b[49m\u001b[43mdx\u001b[49m\u001b[43m,\u001b[49m\u001b[43m \u001b[49m\u001b[43mj\u001b[49m\u001b[43m \u001b[49m\u001b[38;5;241;43m+\u001b[39;49m\u001b[43m \u001b[49m\u001b[43mdy\u001b[49m\u001b[43m,\u001b[49m\u001b[43m \u001b[49m\u001b[43mlabel\u001b[49m\u001b[43m)\u001b[49m\n",
      "Cell \u001b[1;32mIn[4], line 25\u001b[0m, in \u001b[0;36mdfs\u001b[1;34m(binary_image, labels, i, j, label)\u001b[0m\n\u001b[0;32m     23\u001b[0m labels[i][j] \u001b[38;5;241m=\u001b[39m label\n\u001b[0;32m     24\u001b[0m \u001b[38;5;28;01mfor\u001b[39;00m dx, dy \u001b[38;5;129;01min\u001b[39;00m [(\u001b[38;5;241m1\u001b[39m, \u001b[38;5;241m0\u001b[39m), (\u001b[38;5;241m-\u001b[39m\u001b[38;5;241m1\u001b[39m, \u001b[38;5;241m0\u001b[39m), (\u001b[38;5;241m0\u001b[39m, \u001b[38;5;241m1\u001b[39m), (\u001b[38;5;241m0\u001b[39m, \u001b[38;5;241m-\u001b[39m\u001b[38;5;241m1\u001b[39m)]:\n\u001b[1;32m---> 25\u001b[0m     \u001b[43mdfs\u001b[49m\u001b[43m(\u001b[49m\u001b[43mbinary_image\u001b[49m\u001b[43m,\u001b[49m\u001b[43m \u001b[49m\u001b[43mlabels\u001b[49m\u001b[43m,\u001b[49m\u001b[43m \u001b[49m\u001b[43mi\u001b[49m\u001b[43m \u001b[49m\u001b[38;5;241;43m+\u001b[39;49m\u001b[43m \u001b[49m\u001b[43mdx\u001b[49m\u001b[43m,\u001b[49m\u001b[43m \u001b[49m\u001b[43mj\u001b[49m\u001b[43m \u001b[49m\u001b[38;5;241;43m+\u001b[39;49m\u001b[43m \u001b[49m\u001b[43mdy\u001b[49m\u001b[43m,\u001b[49m\u001b[43m \u001b[49m\u001b[43mlabel\u001b[49m\u001b[43m)\u001b[49m\n",
      "    \u001b[1;31m[... skipping similar frames: dfs at line 25 (2967 times)]\u001b[0m\n",
      "Cell \u001b[1;32mIn[4], line 25\u001b[0m, in \u001b[0;36mdfs\u001b[1;34m(binary_image, labels, i, j, label)\u001b[0m\n\u001b[0;32m     23\u001b[0m labels[i][j] \u001b[38;5;241m=\u001b[39m label\n\u001b[0;32m     24\u001b[0m \u001b[38;5;28;01mfor\u001b[39;00m dx, dy \u001b[38;5;129;01min\u001b[39;00m [(\u001b[38;5;241m1\u001b[39m, \u001b[38;5;241m0\u001b[39m), (\u001b[38;5;241m-\u001b[39m\u001b[38;5;241m1\u001b[39m, \u001b[38;5;241m0\u001b[39m), (\u001b[38;5;241m0\u001b[39m, \u001b[38;5;241m1\u001b[39m), (\u001b[38;5;241m0\u001b[39m, \u001b[38;5;241m-\u001b[39m\u001b[38;5;241m1\u001b[39m)]:\n\u001b[1;32m---> 25\u001b[0m     \u001b[43mdfs\u001b[49m\u001b[43m(\u001b[49m\u001b[43mbinary_image\u001b[49m\u001b[43m,\u001b[49m\u001b[43m \u001b[49m\u001b[43mlabels\u001b[49m\u001b[43m,\u001b[49m\u001b[43m \u001b[49m\u001b[43mi\u001b[49m\u001b[43m \u001b[49m\u001b[38;5;241;43m+\u001b[39;49m\u001b[43m \u001b[49m\u001b[43mdx\u001b[49m\u001b[43m,\u001b[49m\u001b[43m \u001b[49m\u001b[43mj\u001b[49m\u001b[43m \u001b[49m\u001b[38;5;241;43m+\u001b[39;49m\u001b[43m \u001b[49m\u001b[43mdy\u001b[49m\u001b[43m,\u001b[49m\u001b[43m \u001b[49m\u001b[43mlabel\u001b[49m\u001b[43m)\u001b[49m\n",
      "Cell \u001b[1;32mIn[4], line 20\u001b[0m, in \u001b[0;36mdfs\u001b[1;34m(binary_image, labels, i, j, label)\u001b[0m\n\u001b[0;32m     18\u001b[0m \u001b[38;5;28;01mif\u001b[39;00m i \u001b[38;5;241m<\u001b[39m \u001b[38;5;241m0\u001b[39m \u001b[38;5;129;01mor\u001b[39;00m i \u001b[38;5;241m>\u001b[39m\u001b[38;5;241m=\u001b[39m binary_image\u001b[38;5;241m.\u001b[39mshape[\u001b[38;5;241m0\u001b[39m] \u001b[38;5;129;01mor\u001b[39;00m j \u001b[38;5;241m<\u001b[39m \u001b[38;5;241m0\u001b[39m \u001b[38;5;129;01mor\u001b[39;00m j \u001b[38;5;241m>\u001b[39m\u001b[38;5;241m=\u001b[39m binary_image\u001b[38;5;241m.\u001b[39mshape[\u001b[38;5;241m1\u001b[39m]:\n\u001b[0;32m     19\u001b[0m     \u001b[38;5;28;01mreturn\u001b[39;00m\n\u001b[1;32m---> 20\u001b[0m \u001b[38;5;28;01mif\u001b[39;00m \u001b[43mbinary_image\u001b[49m\u001b[43m[\u001b[49m\u001b[43mi\u001b[49m\u001b[43m]\u001b[49m\u001b[43m[\u001b[49m\u001b[43mj\u001b[49m\u001b[43m]\u001b[49m\u001b[43m \u001b[49m\u001b[38;5;241;43m==\u001b[39;49m\u001b[43m \u001b[49m\u001b[38;5;241;43m0\u001b[39;49m \u001b[38;5;129;01mor\u001b[39;00m labels[i][j] \u001b[38;5;241m>\u001b[39m \u001b[38;5;241m0\u001b[39m:\n\u001b[0;32m     21\u001b[0m     \u001b[38;5;28;01mreturn\u001b[39;00m\n\u001b[0;32m     23\u001b[0m labels[i][j] \u001b[38;5;241m=\u001b[39m label\n",
      "\u001b[1;31mRecursionError\u001b[0m: maximum recursion depth exceeded in comparison"
     ]
    }
   ],
   "source": [
    "def connected_component_labeling(image):\n",
    "    # Convert the image to binary using a threshold\n",
    "    threshold = 127\n",
    "    binary_image = (image > threshold).astype(np.uint8)\n",
    "\n",
    "    # Perform connected component labeling\n",
    "    labels = np.zeros_like(binary_image)\n",
    "    label = 1  # Start labeling from 1\n",
    "    for i in range(binary_image.shape[0]):\n",
    "        for j in range(binary_image.shape[1]):\n",
    "            if binary_image[i][j] == 1 and labels[i][j] == 0:\n",
    "                dfs(binary_image, labels, i, j, label)\n",
    "                label += 1\n",
    "\n",
    "    return labels\n",
    "\n",
    "def dfs(binary_image, labels, i, j, label):\n",
    "    stack = [(i, j)]\n",
    "    \n",
    "    while stack:\n",
    "        i, j = stack.pop()\n",
    "        if i < 0 or i >= binary_image.shape[0] or j < 0 or j >= binary_image.shape[1]:\n",
    "            continue\n",
    "        if binary_image[i][j] == 0 or labels[i][j] > 0:\n",
    "            continue\n",
    "        \n",
    "        labels[i][j] = label\n",
    "        for dx, dy in [(1, 0), (-1, 0), (0, 1), (0, -1)]:\n",
    "            stack.append((i + dx, j + dy))\n",
    "\n",
    "\n",
    "\n",
    "\n",
    "# Load the image\n",
    "image = cv2.imread('Orings/Oring1.jpg', cv2.IMREAD_GRAYSCALE)\n",
    "\n",
    "if image is None:\n",
    "    print(\"Error: Image not found or cannot be read.\")\n",
    "else:\n",
    "    # Perform connected component labeling\n",
    "    labels = connected_component_labeling(image)\n",
    "\n",
    "    if labels is None:\n",
    "        print(\"Error: Connected component labeling failed.\")\n",
    "    else:\n",
    "        # Display the labeled image\n",
    "        cv2.imshow('Labeled Image', labels.astype(np.uint8) * 50)  # Scale for better visualization\n",
    "        cv2.waitKey(0)\n",
    "        cv2.destroyAllWindows()\n"
   ]
  }
 ],
 "metadata": {
  "kernelspec": {
   "display_name": "Python 3",
   "language": "python",
   "name": "python3"
  },
  "language_info": {
   "codemirror_mode": {
    "name": "ipython",
    "version": 3
   },
   "file_extension": ".py",
   "mimetype": "text/x-python",
   "name": "python",
   "nbconvert_exporter": "python",
   "pygments_lexer": "ipython3",
   "version": "3.11.0"
  }
 },
 "nbformat": 4,
 "nbformat_minor": 2
}
